{
 "cells": [
  {
   "cell_type": "code",
   "execution_count": 16,
   "metadata": {},
   "outputs": [
    {
     "name": "stdout",
     "output_type": "stream",
     "text": [
      "['Collaborated with a team of engineers to design and implement advanced software solutions.', 'Solved complex technical issues through innovative coding methodologies and frameworks.', 'Assisted in creating robust software architectures and frameworks.', 'Conducted thorough code reviews and provided feedback to team members.']\n"
     ]
    }
   ],
   "source": [
    "import json\n",
    "from json import JSONDecodeError\n",
    "result1 = \"\"\"\n",
    "```json\n",
    "[\n",
    "\"Collaborated with a team of engineers to design and implement advanced software solutions.\",\n",
    "\"Solved complex technical issues through innovative coding methodologies and frameworks.\",\n",
    "\"Assisted in creating robust software architectures and frameworks.\",\n",
    "\"Conducted thorough code reviews and provided feedback to team members.\"\n",
    "] \n",
    "\"\"\"\n",
    "\n",
    "result2 = 'Sure, here are three examples of skills that could be included on your resume as full stack developer:\\n```json\\n{\\n  \"Full Stack Development\": [\\n    \"Proficiency in programming languages (Python, JavaScript)\",\\n    \"Experience with modern frameworks/libraries (React, Angular)\",\\n    \"Familiarity with technologies (API development, database management)\",\\n    \"Strong software architecture skills\",\\n    \"Teamwork and collaboration ability\",\\n    \"Problem-solving and analytical thinking\"\\n  ] \\n}'\n",
    "result3 =' \\n```json\\n[\\n  \"database management\",\\n  \"project delivery\",\\n  \"full-stack design solutions\"\\n]\\n``` '\n",
    "\n",
    "\n",
    "restul4 = ' Here are three examples of skills that could be included on your resume as full-stack developer:\\n\\n```json \\n{ \"fullstack_skills\" : [\"Proficient HTML/CSS\", \"Modern frameworks: React.js, Angular.\", \"Database management: MongoDB, PostgreSQL\"] \\n} '\n",
    "\n",
    "\n",
    "result5 = '[ \"Strong understanding of programming languages and frameworks\",\\n    \"Proficiency in HTML/CSS design and responsive web development\",\\n    \"Experience with working with cloud technologies and platforms (e.g., AWS, Azure)\",\\n    \"Ability to design and implement complex backend solutions\",\\n    \"Strong commitment to code quality, readability, and scalability\" '\n",
    "\n",
    "\n",
    "result6 = ' [“Strong proficiency in programming languages and frameworks such as JavaScript, HTML/CSS, Python, and React. particular development and utilizing modern frameworks like for building scalable and efficient solutions.”\\n development projects.” \\n\\n �exceptional communication skills and ability to collaborate effectively with cross-functional teams.”] \\n\\nability to design and implement robust and secure APIs that meet business requirements.” \\n\\nability to leverage data structures and algorithms to optimize and enhance the performance of complex tasks or algorithms.'\n",
    "\n",
    "\n",
    "result7 =\"[\\n \\\"Example 1\\\",\\n  \\\"Example 2\\\",\\n \\\"Example 3\\\"\\n]\\n\"\n",
    "\n",
    "result8 = ' [\\\\\"Problem-solving and Analytical Skills\\\\\", \\\\\"Excellent communication and teamwork abilities\\\\\", \\\\\"Proficiency in various programming languages and frameworks\"] '\n",
    "\n",
    "\n",
    "result9 = 'Sure, here are three examples of skills that could be included on your resume as full stack developer: [ \"Analyzes and designs complex software architecture and algorithms.\", \"Proficient in programming languages (Python, JavaScript), and C++)\", \"Develops innovative solutions and products.\", \"Strong understanding of software development lifecycle and best practices\"]'\n",
    "def extract_json(raw_result: str, retries=3) -> list:\n",
    "    raw_result = raw_result.strip()\n",
    "    \n",
    " \n",
    "    try:\n",
    "        # Case 1: result starts directly with a JSON array\n",
    "        if raw_result.startswith('['):\n",
    "            result_json = json.loads(raw_result)\n",
    "            return result_json\n",
    "\n",
    "        # Case 2: result start with JSON code block\n",
    "        start_index = raw_result.find('```json')\n",
    "        if start_index != -1:\n",
    "            start_index += len('```json')\n",
    "            end_index = raw_result.find('```', start_index)\n",
    "            if end_index != -1:\n",
    "                json_string = raw_result[start_index:end_index].strip()\n",
    "                result_json = json.loads(json_string)\n",
    "                return result_json\n",
    "        \n",
    "        # Case 3: result include pre-text\n",
    "        if not raw_result.startswith('['):\n",
    "        \n",
    "            start_index = raw_result.find('[')\n",
    "            if start_index != -1:\n",
    "                json_string = raw_result[start_index:].strip()\n",
    "                result_json = json.loads(json_string)\n",
    "                return result_json\n",
    "\n",
    "\n",
    "        \n",
    "    \n",
    "    except JSONDecodeError as e:\n",
    "        print(f\"JSON decoding failed on {raw_result}\")\n",
    "    \n",
    "    return []\n",
    "\n",
    "tests = [result1, result2, result3, restul4, result5, result6, result7, result8, result9]\n",
    "# data = extract_json(result1, 3)\n",
    "# print(data)\n",
    "for test in tests:\n",
    "    data = extract_json(test, 3)\n",
    "    print(data)"
   ]
  }
 ],
 "metadata": {
  "kernelspec": {
   "display_name": "fedfunl",
   "language": "python",
   "name": "python3"
  },
  "language_info": {
   "codemirror_mode": {
    "name": "ipython",
    "version": 3
   },
   "file_extension": ".py",
   "mimetype": "text/x-python",
   "name": "python",
   "nbconvert_exporter": "python",
   "pygments_lexer": "ipython3",
   "version": "3.10.14"
  }
 },
 "nbformat": 4,
 "nbformat_minor": 2
}
