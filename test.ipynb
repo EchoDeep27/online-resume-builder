{
 "cells": [
  {
   "cell_type": "code",
   "execution_count": 14,
   "metadata": {},
   "outputs": [
    {
     "name": "stdout",
     "output_type": "stream",
     "text": [
      "['Collaborated with a team of engineers to design and implement advanced software solutions.', 'Solved complex technical issues through innovative coding methodologies and frameworks.', 'Assisted in creating robust software architectures and frameworks.', 'Conducted thorough code reviews and provided feedback to team members.']\n"
     ]
    }
   ],
   "source": [
    "import json\n",
    "from json import JSONDecodeError\n",
    "result = \"\"\"\n",
    "\n",
    "[\n",
    "\"Collaborated with a team of engineers to design and implement advanced software solutions.\",\n",
    "\"Solved complex technical issues through innovative coding methodologies and frameworks.\",\n",
    "\"Assisted in creating robust software architectures and frameworks.\",\n",
    "\"Conducted thorough code reviews and provided feedback to team members.\"\n",
    "] \n",
    "\"\"\"\n",
    "\n",
    "\n",
    "\n",
    "\n",
    "def extract_json(raw_result:str,retries = 3) -> list[str]:\n",
    "    raw_result = raw_result.strip()\n",
    "    clean_result = raw_result.strip().replace('```json', '').replace('', '').strip()\n",
    "    for attempt in range(retries):\n",
    "        try:\n",
    "      \n",
    "            result_json = json.loads(clean_result)\n",
    "            return result_json\n",
    "        except JSONDecodeError as e:\n",
    "            print(f\"JSON decoding failed on attempt {attempt + 1}: {e}\")\n",
    "            clean_result = clean_result.replace('json','')\n",
    "        \n",
    "        \n",
    "data = extract_json(result, 3)\n",
    "print(data)"
   ]
  }
 ],
 "metadata": {
  "kernelspec": {
   "display_name": "fedfunl",
   "language": "python",
   "name": "python3"
  },
  "language_info": {
   "codemirror_mode": {
    "name": "ipython",
    "version": 3
   },
   "file_extension": ".py",
   "mimetype": "text/x-python",
   "name": "python",
   "nbconvert_exporter": "python",
   "pygments_lexer": "ipython3",
   "version": "3.10.14"
  }
 },
 "nbformat": 4,
 "nbformat_minor": 2
}
